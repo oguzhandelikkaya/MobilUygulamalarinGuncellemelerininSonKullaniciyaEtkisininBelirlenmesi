{
 "cells": [
  {
   "cell_type": "code",
   "execution_count": 6,
   "metadata": {},
   "outputs": [
    {
     "name": "stdout",
     "output_type": "stream",
     "text": [
      "Yorumlar CSV dosyasına kaydedildi: 3.csv\n"
     ]
    }
   ],
   "source": [
    "from google_play_scraper import app, reviews\n",
    "import csv\n",
    "import datetime\n",
    "\n",
    "\n",
    "app_info = app('')\n",
    "\n",
    "baslangic_tarihi = datetime.datetime(2022, 1, 1) \n",
    "bitis_tarihi = datetime.datetime(2023, 10, 31)    \n",
    "\n",
    "\n",
    "yorumlar = []\n",
    "continuation_token = None\n",
    "\n",
    "while True:\n",
    "    result, continuation_token = reviews(\n",
    "        'com...',\n",
    "        lang='tr',\n",
    "        count=100000,  \n",
    "        sort='newest',  \n",
    "        continuation_token=continuation_token\n",
    "    )\n",
    "\n",
    "    if not result:\n",
    "        break\n",
    "\n",
    "    for review in result:\n",
    "        tarih= review.get(\"at\", \"\")\n",
    "        if baslangic_tarihi <= tarih <= bitis_tarihi:\n",
    "            yorumlar.append(review)\n",
    "\n",
    "    if continuation_token is None or tarih < baslangic_tarihi:\n",
    "        break\n",
    "\n",
    "\n",
    "csv_filename = '....csv'\n",
    "\n",
    "with open(csv_filename, 'w', newline='', encoding='utf-8') as csv_file:\n",
    "    csv_writer = csv.writer(csv_file)\n",
    "    csv_writer.writerow(['Tarih', 'Yorum', 'Puan'])\n",
    "\n",
    "    for review in yorumlar:\n",
    "        tarih= review.get(\"at\", \"\")\n",
    "        metin = review['content']\n",
    "        puan = review['score']\n",
    "        csv_writer.writerow([tarih, metin, puan])\n",
    "\n",
    "print(f\"Yorumlar CSV dosyasına kaydedildi: {csv_filename}\")\n"
   ]
  },
  {
   "cell_type": "code",
   "execution_count": null,
   "metadata": {},
   "outputs": [],
   "source": []
  }
 ],
 "metadata": {
  "kernelspec": {
   "display_name": "base",
   "language": "python",
   "name": "python3"
  },
  "language_info": {
   "codemirror_mode": {
    "name": "ipython",
    "version": 3
   },
   "file_extension": ".py",
   "mimetype": "text/x-python",
   "name": "python",
   "nbconvert_exporter": "python",
   "pygments_lexer": "ipython3",
   "version": "3.12.0"
  }
 },
 "nbformat": 4,
 "nbformat_minor": 2
}
