{
 "cells": [
  {
   "cell_type": "code",
   "execution_count": null,
   "metadata": {},
   "outputs": [],
   "source": [
    "import pandas as pd\n",
    "df=pd.read_excel(\".....xlsx\") \n",
    "\n",
    "import warnings\n",
    "warnings.filterwarnings(\"ignore\")"
   ]
  },
  {
   "cell_type": "code",
   "execution_count": null,
   "metadata": {},
   "outputs": [],
   "source": [
    "from sklearn.model_selection import train_test_split\n",
    "from sklearn.feature_extraction.text import CountVectorizer\n",
    "\n",
    "df['yorum'].fillna('', inplace=True)\n",
    "\n",
    "\n",
    "X = df['yorum']\n",
    "y = df['durum']\n",
    "\n",
    "\n",
    "vectorizer = CountVectorizer()\n",
    "X_vectorized = vectorizer.fit_transform(X)\n",
    "\n",
    "\n",
    "X_train, X_test, y_train, y_test = train_test_split(X_vectorized, y, test_size=0.2, random_state=42)"
   ]
  },
  {
   "cell_type": "code",
   "execution_count": null,
   "metadata": {},
   "outputs": [
    {
     "name": "stdout",
     "output_type": "stream",
     "text": [
      "Ensemble Model Accuracy: 0.9176470588235294\n"
     ]
    }
   ],
   "source": [
    "from sklearn.ensemble import VotingClassifier, BaggingClassifier\n",
    "from sklearn.ensemble import AdaBoostClassifier, ExtraTreesClassifier, RandomForestClassifier\n",
    "from sklearn.linear_model import SGDClassifier, LogisticRegressionCV\n",
    "from sklearn.svm import LinearSVC\n",
    "from sklearn.datasets import make_classification\n",
    "from sklearn.model_selection import train_test_split\n",
    "from sklearn.metrics import accuracy_score\n",
    "\n",
    "\n",
    "\n",
    "sgd_clf = SGDClassifier()\n",
    "bagging_sgd = BaggingClassifier()\n",
    "ada_boost = AdaBoostClassifier()\n",
    "extra_trees = ExtraTreesClassifier()\n",
    "linear_svc = LinearSVC()\n",
    "random_forest = RandomForestClassifier()\n",
    "logistic_regression_cv = LogisticRegressionCV()\n",
    "\n",
    "\n",
    "ensemble_model = VotingClassifier(estimators=[\n",
    "    ('bagging_sgd', bagging_sgd),\n",
    "    ('ada_boost', ada_boost),\n",
    "    ('extra_trees', extra_trees),\n",
    "    ('linear_svc', linear_svc),\n",
    "    ('random_forest', random_forest),\n",
    "    ('logistic_regression_cv', logistic_regression_cv)\n",
    "], voting='hard')\n",
    "\n",
    "\n",
    "ensemble_model.fit(X_train, y_train)\n",
    "\n",
    "\n",
    "y_pred = ensemble_model.predict(X_test)\n",
    "accuracy = accuracy_score(y_test, y_pred)\n",
    "print(\"Ensemble Model Accuracy:\", accuracy)\n"
   ]
  },
  {
   "cell_type": "markdown",
   "metadata": {},
   "source": [
    "# Tahmin"
   ]
  },
  {
   "cell_type": "code",
   "execution_count": null,
   "metadata": {},
   "outputs": [],
   "source": [
    "tahmin_veri=pd.read_excel(\"....xlsx\",index_col=0)"
   ]
  },
  {
   "cell_type": "code",
   "execution_count": null,
   "metadata": {},
   "outputs": [],
   "source": [
    "tahmin_veri['yorum'].fillna('', inplace=True)"
   ]
  },
  {
   "cell_type": "code",
   "execution_count": null,
   "metadata": {},
   "outputs": [],
   "source": [
    "from sklearn.feature_extraction.text import TfidfVectorizer\n",
    "\n",
    "tfidf_vectorized = TfidfVectorizer (analyzer='word',max_features=5000) \n",
    "tf_idf_donusturucu = tfidf_vectorized.fit(df['yorum'])\n",
    "\n",
    "ogrenme_seti = tf_idf_donusturucu.transform(df['yorum'])\n",
    "ogrenme_seti_vectoru = pd.DataFrame(data=ogrenme_seti.toarray())\n",
    "\n",
    "tahmin_seti = tf_idf_donusturucu.transform(tahmin_veri['yorum'])\n",
    "tahmin_seti_vectoru = pd.DataFrame(data=tahmin_seti.toarray(), columns=tf_idf_donusturucu.get_feature_names_out())"
   ]
  },
  {
   "cell_type": "code",
   "execution_count": null,
   "metadata": {},
   "outputs": [],
   "source": [
    "ensemble_model.fit(ogrenme_seti_vectoru, df.durum)\n",
    "tahmin_veri['...'] = ensemble_model.predict(tahmin_seti_vectoru)"
   ]
  },
  {
   "cell_type": "code",
   "execution_count": 194,
   "metadata": {},
   "outputs": [],
   "source": [
    "tahmin_veri.to_excel(\".....xlsx\")"
   ]
  },
  {
   "cell_type": "markdown",
   "metadata": {},
   "source": [
    "# Duygu Analizi "
   ]
  },
  {
   "cell_type": "code",
   "execution_count": null,
   "metadata": {},
   "outputs": [],
   "source": [
    "def sentiment(series, model_name=\"savasy/bert-base-turkish-sentiment-cased\"):\n",
    "    from transformers import AutoModelForSequenceClassification, AutoTokenizer\n",
    "    from transformers import pipeline\n",
    "\n",
    "    label, score = [], []\n",
    "    model = AutoModelForSequenceClassification.from_pretrained(model_name)\n",
    "    tokenizer = AutoTokenizer.from_pretrained(model_name)\n",
    "    sa = pipeline(\"sentiment-analysis\", tokenizer=tokenizer, model=model)\n",
    "    for i, k in enumerate(series):\n",
    "        result = sa(k)\n",
    "        label.append(result[0]['label'])\n",
    "        score.append(result[0]['score'])\n",
    "        if i % 100 == 0 and i != 0:\n",
    "            print(f\"Sentiment analysis of {i} tweets is done\")\n",
    "    return pd.DataFrame({'label': label, 'score': score})"
   ]
  }
 ],
 "metadata": {
  "kernelspec": {
   "display_name": "Python 3",
   "language": "python",
   "name": "python3"
  },
  "language_info": {
   "codemirror_mode": {
    "name": "ipython",
    "version": 3
   },
   "file_extension": ".py",
   "mimetype": "text/x-python",
   "name": "python",
   "nbconvert_exporter": "python",
   "pygments_lexer": "ipython3",
   "version": "3.12.0"
  }
 },
 "nbformat": 4,
 "nbformat_minor": 2
}
