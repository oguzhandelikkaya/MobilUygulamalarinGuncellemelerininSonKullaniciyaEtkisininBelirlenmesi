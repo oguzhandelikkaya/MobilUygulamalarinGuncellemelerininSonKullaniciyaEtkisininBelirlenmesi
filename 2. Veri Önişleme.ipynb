{
 "cells": [
  {
   "cell_type": "code",
   "execution_count": 1,
   "metadata": {},
   "outputs": [],
   "source": [
    "import pandas as pd"
   ]
  },
  {
   "cell_type": "code",
   "execution_count": 26,
   "metadata": {},
   "outputs": [],
   "source": [
    "df=pd.read_excel(\"....xlsx\",index_col=0)"
   ]
  },
  {
   "cell_type": "code",
   "execution_count": 28,
   "metadata": {},
   "outputs": [],
   "source": [
    "df['yorum'] = df['yorum'].fillna('')"
   ]
  },
  {
   "cell_type": "code",
   "execution_count": 29,
   "metadata": {},
   "outputs": [],
   "source": [
    "import re\n",
    "import string\n",
    "from nltk.corpus import stopwords\n",
    "from nltk.tokenize import word_tokenize\n",
    "import demoji\n",
    "import pandas as pd\n",
    "\n",
    "def preprocess_text(text):\n",
    "    # Hashtag'leri kaldır\n",
    "    text = re.sub(r'#\\w+', '', text)\n",
    "    \n",
    "    # Kullanıcı adlarını kaldır\n",
    "    text = re.sub(r'@\\w+', '', text)\n",
    "    \n",
    "    # Büyük-küçük dönüşümü\n",
    "    text = ' '.join(x.lower() for x in text.split())\n",
    "    \n",
    "    # Noktalama işaretlerini kaldır\n",
    "    text = ''.join(char for char in text if char not in string.punctuation)\n",
    "    \n",
    "    # Sayıları kaldır\n",
    "    text = ''.join(char for char in text if not char.isdigit())\n",
    "    \n",
    "    # Stopwords'leri kaldır\n",
    "    stop_words = set(stopwords.words('turkish'))\n",
    "    words = word_tokenize(text, language='turkish')\n",
    "    filtered_words = [word for word in words if word.lower() not in stop_words]\n",
    "    text = ' '.join(filtered_words)\n",
    "    \n",
    "    # Emojileri kaldır\n",
    "    text = demoji.replace(text, '')\n",
    "    \n",
    "    # URL'leri kaldır\n",
    "    text = re.sub(r'http\\S+', '', text)\n",
    "    \n",
    "    # Türkçe karakter düzeltme\n",
    "    text = text.replace('ı', 'i')\n",
    "    text = text.replace('ü', 'u')\n",
    "    text = text.replace('ö', 'o')\n",
    "    text = text.replace('ğ', 'g')\n",
    "    text = text.replace('ş', 's')\n",
    "    text = text.replace('ç', 'c')\n",
    "    \n",
    "    return text\n",
    "\n",
    "df['yorum'] = df['yorum'].apply(preprocess_text)\n",
    "\n",
    "df.to_excel(\"....xlsx\")"
   ]
  },
  {
   "cell_type": "code",
   "execution_count": null,
   "metadata": {},
   "outputs": [],
   "source": []
  }
 ],
 "metadata": {
  "kernelspec": {
   "display_name": "Python 3",
   "language": "python",
   "name": "python3"
  },
  "language_info": {
   "codemirror_mode": {
    "name": "ipython",
    "version": 3
   },
   "file_extension": ".py",
   "mimetype": "text/x-python",
   "name": "python",
   "nbconvert_exporter": "python",
   "pygments_lexer": "ipython3",
   "version": "3.12.0"
  }
 },
 "nbformat": 4,
 "nbformat_minor": 2
}
